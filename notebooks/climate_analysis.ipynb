{
 "cells": [
  {
   "cell_type": "code",
   "execution_count": null,
   "id": "35be5950",
   "metadata": {},
   "outputs": [],
   "source": [
    "# Import libraries\n",
    "import pandas as pd\n",
    "from src.data_processing import load_csv, clean_data, merge_datasets\n",
    "from src.visualization import plot_trends, correlation_heatmap\n",
    "from src.analysis import summarize_data\n",
    "\n",
    "# Load datasets\n",
    "temp_df = clean_data(load_csv('../data/global_temperatures.csv'))\n",
    "co2_df = clean_data(load_csv('../data/co2_emissions.csv'))\n",
    "sea_df = clean_data(load_csv('../data/sea_levels.csv'))\n",
    "\n",
    "# Merge datasets\n",
    "climate_df = merge_datasets(temp_df, co2_df, sea_df)\n",
    "\n",
    "# Summarize data\n",
    "summarize_data(climate_df)\n",
    "\n",
    "# Visualizations\n",
    "plot_trends(climate_df)\n",
    "correlation_heatmap(climate_df)\n"
   ]
  }
 ],
 "metadata": {
  "language_info": {
   "name": "python"
  }
 },
 "nbformat": 4,
 "nbformat_minor": 5
}
